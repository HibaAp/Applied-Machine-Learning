{
 "cells": [
  {
   "cell_type": "markdown",
   "id": "4f95815c",
   "metadata": {},
   "source": [
    "## Recquired libraries"
   ]
  },
  {
   "cell_type": "code",
   "execution_count": 2,
   "id": "ae6c44e2",
   "metadata": {
    "scrolled": true
   },
   "outputs": [
    {
     "name": "stderr",
     "output_type": "stream",
     "text": [
      "[nltk_data] Downloading package stopwords to\n",
      "[nltk_data]     C:\\Users\\Admin\\AppData\\Roaming\\nltk_data...\n",
      "[nltk_data]   Package stopwords is already up-to-date!\n"
     ]
    }
   ],
   "source": [
    "import pandas as pd\n",
    "import nltk\n",
    "nltk.download('stopwords')\n",
    "\n",
    "from nltk.corpus import stopwords\n",
    "import re\n",
    "from sklearn.model_selection import train_test_split\n",
    "from sklearn.feature_extraction.text import TfidfVectorizer\n",
    "stop = stopwords.words('english')"
   ]
  },
  {
   "cell_type": "markdown",
   "id": "1bd7e7fe",
   "metadata": {},
   "source": [
    "## Read the xlsx file"
   ]
  },
  {
   "cell_type": "code",
   "execution_count": 3,
   "id": "7b7d000b",
   "metadata": {},
   "outputs": [],
   "source": [
    "data=pd.read_excel(r\"C:\\Users\\Admin\\OneDrive\\Desktop(1)\\cmi\\4\\AML\\SpamHamData.xlsx\")"
   ]
  },
  {
   "cell_type": "code",
   "execution_count": 4,
   "id": "8d068fb5",
   "metadata": {},
   "outputs": [],
   "source": [
    "data.columns=[\"label\",\"messages\"]"
   ]
  },
  {
   "cell_type": "code",
   "execution_count": 5,
   "id": "155a6fb1",
   "metadata": {},
   "outputs": [
    {
     "data": {
      "text/html": [
       "<div>\n",
       "<style scoped>\n",
       "    .dataframe tbody tr th:only-of-type {\n",
       "        vertical-align: middle;\n",
       "    }\n",
       "\n",
       "    .dataframe tbody tr th {\n",
       "        vertical-align: top;\n",
       "    }\n",
       "\n",
       "    .dataframe thead th {\n",
       "        text-align: right;\n",
       "    }\n",
       "</style>\n",
       "<table border=\"1\" class=\"dataframe\">\n",
       "  <thead>\n",
       "    <tr style=\"text-align: right;\">\n",
       "      <th></th>\n",
       "      <th>label</th>\n",
       "      <th>messages</th>\n",
       "    </tr>\n",
       "  </thead>\n",
       "  <tbody>\n",
       "    <tr>\n",
       "      <th>0</th>\n",
       "      <td>ham</td>\n",
       "      <td>Ok lar... Joking wif u oni...</td>\n",
       "    </tr>\n",
       "    <tr>\n",
       "      <th>1</th>\n",
       "      <td>spam</td>\n",
       "      <td>Free entry in 2 a wkly comp to win FA Cup fina...</td>\n",
       "    </tr>\n",
       "    <tr>\n",
       "      <th>2</th>\n",
       "      <td>ham</td>\n",
       "      <td>U dun say so early hor... U c already then say...</td>\n",
       "    </tr>\n",
       "    <tr>\n",
       "      <th>3</th>\n",
       "      <td>ham</td>\n",
       "      <td>Nah I don't think he goes to usf, he lives aro...</td>\n",
       "    </tr>\n",
       "    <tr>\n",
       "      <th>4</th>\n",
       "      <td>spam</td>\n",
       "      <td>FreeMsg Hey there darling it's been 3 week's n...</td>\n",
       "    </tr>\n",
       "    <tr>\n",
       "      <th>...</th>\n",
       "      <td>...</td>\n",
       "      <td>...</td>\n",
       "    </tr>\n",
       "    <tr>\n",
       "      <th>5566</th>\n",
       "      <td>spam</td>\n",
       "      <td>This is the 2nd time we have tried 2 contact u...</td>\n",
       "    </tr>\n",
       "    <tr>\n",
       "      <th>5567</th>\n",
       "      <td>ham</td>\n",
       "      <td>Will ü b going to esplanade fr home?</td>\n",
       "    </tr>\n",
       "    <tr>\n",
       "      <th>5568</th>\n",
       "      <td>ham</td>\n",
       "      <td>Pity, * was in mood for that. So...any other s...</td>\n",
       "    </tr>\n",
       "    <tr>\n",
       "      <th>5569</th>\n",
       "      <td>ham</td>\n",
       "      <td>The guy did some bitching but I acted like i'd...</td>\n",
       "    </tr>\n",
       "    <tr>\n",
       "      <th>5570</th>\n",
       "      <td>ham</td>\n",
       "      <td>Rofl. Its true to its name</td>\n",
       "    </tr>\n",
       "  </tbody>\n",
       "</table>\n",
       "<p>5571 rows × 2 columns</p>\n",
       "</div>"
      ],
      "text/plain": [
       "     label                                           messages\n",
       "0      ham                      Ok lar... Joking wif u oni...\n",
       "1     spam  Free entry in 2 a wkly comp to win FA Cup fina...\n",
       "2      ham  U dun say so early hor... U c already then say...\n",
       "3      ham  Nah I don't think he goes to usf, he lives aro...\n",
       "4     spam  FreeMsg Hey there darling it's been 3 week's n...\n",
       "...    ...                                                ...\n",
       "5566  spam  This is the 2nd time we have tried 2 contact u...\n",
       "5567   ham               Will ü b going to esplanade fr home?\n",
       "5568   ham  Pity, * was in mood for that. So...any other s...\n",
       "5569   ham  The guy did some bitching but I acted like i'd...\n",
       "5570   ham                         Rofl. Its true to its name\n",
       "\n",
       "[5571 rows x 2 columns]"
      ]
     },
     "execution_count": 5,
     "metadata": {},
     "output_type": "execute_result"
    }
   ],
   "source": [
    "data"
   ]
  },
  {
   "cell_type": "code",
   "execution_count": 6,
   "id": "bb9aa361",
   "metadata": {},
   "outputs": [
    {
     "name": "stdout",
     "output_type": "stream",
     "text": [
      "  label                                           messages  length\n",
      "0   ham                      Ok lar... Joking wif u oni...      29\n",
      "1  spam  Free entry in 2 a wkly comp to win FA Cup fina...     155\n",
      "2   ham  U dun say so early hor... U c already then say...      49\n",
      "3   ham  Nah I don't think he goes to usf, he lives aro...      61\n",
      "4  spam  FreeMsg Hey there darling it's been 3 week's n...     147\n"
     ]
    }
   ],
   "source": [
    "data['length'] = data['messages'].astype(str).map(lambda text: len(text))\n",
    "print(data.head())"
   ]
  },
  {
   "cell_type": "markdown",
   "id": "11960e00",
   "metadata": {},
   "source": [
    "## Utility functions"
   ]
  },
  {
   "cell_type": "code",
   "execution_count": 7,
   "id": "69710066",
   "metadata": {},
   "outputs": [],
   "source": [
    "def split_into_tokens(message):\n",
    "    message = unicode(message, 'utf8')\n",
    "    return TextBlob(message).words"
   ]
  },
  {
   "cell_type": "code",
   "execution_count": 8,
   "id": "6b872ef1",
   "metadata": {},
   "outputs": [],
   "source": [
    "def clean_text(text):\n",
    "    text=str(text).lower()\n",
    "    text=re.sub('[^a-zA-Z]', ' ', text)\n",
    "    text=text.split()\n",
    "    text = [word for word in text if word not in stop]\n",
    "    text=' '.join(text)\n",
    "    return text"
   ]
  },
  {
   "cell_type": "markdown",
   "id": "c0c7af86",
   "metadata": {},
   "source": [
    "## Save the processed text"
   ]
  },
  {
   "cell_type": "code",
   "execution_count": 9,
   "id": "0ead203b",
   "metadata": {},
   "outputs": [],
   "source": [
    "data.to_csv(r\"C:\\Users\\Admin\\OneDrive\\Desktop(1)\\cmi\\4\\AML\\2\\processed_data.csv\", index=False)\n"
   ]
  },
  {
   "cell_type": "code",
   "execution_count": 10,
   "id": "0c8003d5",
   "metadata": {},
   "outputs": [],
   "source": [
    "data.to_csv(r\"processed_data.csv\", index=False)"
   ]
  },
  {
   "cell_type": "markdown",
   "id": "24ba9615",
   "metadata": {},
   "source": [
    "## Cloning the github Repo"
   ]
  },
  {
   "cell_type": "code",
   "execution_count": 40,
   "id": "38100310",
   "metadata": {},
   "outputs": [],
   "source": [
    "!git remote -v\n"
   ]
  },
  {
   "cell_type": "code",
   "execution_count": 44,
   "id": "286ccfea",
   "metadata": {},
   "outputs": [
    {
     "name": "stdout",
     "output_type": "stream",
     "text": [
      "On branch master\n",
      "Untracked files:\n",
      "  (use \"git add <file>...\" to include in what will be committed)\n",
      "\tREADME\n",
      "\tSpamHamData.xlsx\n",
      "\trequirements.txt\n",
      "\n",
      "nothing added to commit but untracked files present (use \"git add\" to track)\n"
     ]
    }
   ],
   "source": [
    "!git status\n"
   ]
  },
  {
   "cell_type": "code",
   "execution_count": 11,
   "id": "c5f18414",
   "metadata": {},
   "outputs": [
    {
     "name": "stderr",
     "output_type": "stream",
     "text": [
      "fatal: destination path 'Applied-Machine-Learning' already exists and is not an empty directory.\n"
     ]
    }
   ],
   "source": [
    "! git clone https://github.com/HibaAp/Applied-Machine-Learning.git"
   ]
  },
  {
   "cell_type": "code",
   "execution_count": 12,
   "id": "800ea9e2",
   "metadata": {},
   "outputs": [
    {
     "name": "stdout",
     "output_type": "stream",
     "text": [
      "c:\\Users\\Admin\\Desktop\\Applied-Machine-Learning\\Assignment2\n"
     ]
    },
    {
     "name": "stderr",
     "output_type": "stream",
     "text": [
      "C:\\Users\\Admin\\AppData\\Roaming\\Python\\Python312\\site-packages\\IPython\\core\\magics\\osm.py:417: UserWarning: This is now an optional IPython functionality, setting dhist requires you to install the `pickleshare` library.\n",
      "  self.shell.db['dhist'] = compress_dhist(dhist)[-100:]\n"
     ]
    }
   ],
   "source": [
    "cd Applied-Machine-Learning/Assignment2"
   ]
  },
  {
   "cell_type": "code",
   "execution_count": 13,
   "id": "7d9f8988",
   "metadata": {},
   "outputs": [
    {
     "name": "stdout",
     "output_type": "stream",
     "text": [
      "Reinitialized existing Git repository in C:/Users/Admin/Desktop/Applied-Machine-Learning/Assignment2/.git/\n"
     ]
    }
   ],
   "source": [
    "!git init\n"
   ]
  },
  {
   "cell_type": "code",
   "execution_count": 14,
   "id": "4a977fe9",
   "metadata": {},
   "outputs": [
    {
     "name": "stderr",
     "output_type": "stream",
     "text": [
      "ERROR: failed to initiate DVC - '.dvc' exists. Use `-f` to force.\n"
     ]
    }
   ],
   "source": [
    "!dvc init"
   ]
  },
  {
   "cell_type": "markdown",
   "id": "7abb6145",
   "metadata": {},
   "source": [
    "## Added the data to dvc"
   ]
  },
  {
   "cell_type": "code",
   "execution_count": 15,
   "id": "852910d4",
   "metadata": {},
   "outputs": [
    {
     "name": "stdout",
     "output_type": "stream",
     "text": [
      "\n",
      "To track the changes with git, run:\n",
      "\n",
      "\tgit add processed_data.csv.dvc\n",
      "\n",
      "To enable auto staging, run:\n",
      "\n",
      "\tdvc config core.autostage true\n"
     ]
    },
    {
     "name": "stderr",
     "output_type": "stream",
     "text": [
      "⠋ Checking graph\n",
      "\n"
     ]
    }
   ],
   "source": [
    "! dvc add processed_data.csv"
   ]
  },
  {
   "cell_type": "code",
   "execution_count": 16,
   "id": "cc5c92db",
   "metadata": {},
   "outputs": [],
   "source": [
    "from sklearn.model_selection import train_test_split\n",
    "\n",
    "def partition_dataset(dataframe, random_seed):\n",
    "    train_set, test_set = train_test_split(dataframe, test_size=0.2, random_state=random_seed)\n",
    "    train_set, val_set = train_test_split(train_set, test_size=0.1, random_state=random_seed)\n",
    "    return train_set, val_set, test_set\n",
    "\n",
    "def export_data_splits(train_set, val_set, test_set):\n",
    "    train_set.to_csv('train.csv', index=False)\n",
    "    val_set.to_csv('validation.csv', index=False)\n",
    "    test_set.to_csv('test.csv', index=False)\n"
   ]
  },
  {
   "cell_type": "markdown",
   "id": "e8d2207f",
   "metadata": {},
   "source": [
    "## Spliting the data\n"
   ]
  },
  {
   "cell_type": "code",
   "execution_count": 17,
   "id": "8a121fcb",
   "metadata": {},
   "outputs": [
    {
     "data": {
      "text/html": [
       "<div>\n",
       "<style scoped>\n",
       "    .dataframe tbody tr th:only-of-type {\n",
       "        vertical-align: middle;\n",
       "    }\n",
       "\n",
       "    .dataframe tbody tr th {\n",
       "        vertical-align: top;\n",
       "    }\n",
       "\n",
       "    .dataframe thead th {\n",
       "        text-align: right;\n",
       "    }\n",
       "</style>\n",
       "<table border=\"1\" class=\"dataframe\">\n",
       "  <thead>\n",
       "    <tr style=\"text-align: right;\">\n",
       "      <th></th>\n",
       "      <th>label</th>\n",
       "      <th>messages</th>\n",
       "      <th>length</th>\n",
       "    </tr>\n",
       "  </thead>\n",
       "  <tbody>\n",
       "    <tr>\n",
       "      <th>0</th>\n",
       "      <td>ham</td>\n",
       "      <td>Ok lar... Joking wif u oni...</td>\n",
       "      <td>29</td>\n",
       "    </tr>\n",
       "    <tr>\n",
       "      <th>1</th>\n",
       "      <td>spam</td>\n",
       "      <td>Free entry in 2 a wkly comp to win FA Cup fina...</td>\n",
       "      <td>155</td>\n",
       "    </tr>\n",
       "    <tr>\n",
       "      <th>2</th>\n",
       "      <td>ham</td>\n",
       "      <td>U dun say so early hor... U c already then say...</td>\n",
       "      <td>49</td>\n",
       "    </tr>\n",
       "    <tr>\n",
       "      <th>3</th>\n",
       "      <td>ham</td>\n",
       "      <td>Nah I don't think he goes to usf, he lives aro...</td>\n",
       "      <td>61</td>\n",
       "    </tr>\n",
       "    <tr>\n",
       "      <th>4</th>\n",
       "      <td>spam</td>\n",
       "      <td>FreeMsg Hey there darling it's been 3 week's n...</td>\n",
       "      <td>147</td>\n",
       "    </tr>\n",
       "  </tbody>\n",
       "</table>\n",
       "</div>"
      ],
      "text/plain": [
       "  label                                           messages  length\n",
       "0   ham                      Ok lar... Joking wif u oni...      29\n",
       "1  spam  Free entry in 2 a wkly comp to win FA Cup fina...     155\n",
       "2   ham  U dun say so early hor... U c already then say...      49\n",
       "3   ham  Nah I don't think he goes to usf, he lives aro...      61\n",
       "4  spam  FreeMsg Hey there darling it's been 3 week's n...     147"
      ]
     },
     "execution_count": 17,
     "metadata": {},
     "output_type": "execute_result"
    }
   ],
   "source": [
    "data.head()"
   ]
  },
  {
   "cell_type": "code",
   "execution_count": 18,
   "id": "a60744fb",
   "metadata": {},
   "outputs": [],
   "source": [
    "train_data, val_data, test_data = partition_dataset(data, 42)"
   ]
  },
  {
   "cell_type": "code",
   "execution_count": 19,
   "id": "47deeaa6",
   "metadata": {},
   "outputs": [],
   "source": [
    "export_data_splits(train_data, val_data, test_data)"
   ]
  },
  {
   "cell_type": "code",
   "execution_count": 20,
   "id": "4a94790a",
   "metadata": {},
   "outputs": [
    {
     "name": "stdout",
     "output_type": "stream",
     "text": [
      "\n",
      "To track the changes with git, run:\n",
      "\n",
      "\tgit add validation.csv.dvc train.csv.dvc test.csv.dvc\n",
      "\n",
      "To enable auto staging, run:\n",
      "\n",
      "\tdvc config core.autostage true\n"
     ]
    },
    {
     "name": "stderr",
     "output_type": "stream",
     "text": [
      "⠋ Checking graph\n",
      "\n"
     ]
    }
   ],
   "source": [
    "! dvc add train.csv validation.csv test.csv"
   ]
  },
  {
   "cell_type": "code",
   "execution_count": 21,
   "id": "9b6a7bb2",
   "metadata": {},
   "outputs": [],
   "source": [
    "!git add *.dvc .gitignore\n"
   ]
  },
  {
   "cell_type": "code",
   "execution_count": 22,
   "id": "32854b29",
   "metadata": {},
   "outputs": [
    {
     "name": "stdout",
     "output_type": "stream",
     "text": [
      "[master 745d6e8] Initial train/validation/test split\n",
      " 3 files changed, 6 insertions(+), 6 deletions(-)\n"
     ]
    }
   ],
   "source": [
    "# Commit changes\n",
    "!git commit -m \"Initial train/validation/test split\""
   ]
  },
  {
   "cell_type": "code",
   "execution_count": 23,
   "id": "13f0d716",
   "metadata": {},
   "outputs": [],
   "source": [
    "!git config --global user.email \"hibanwer@gmail.com\""
   ]
  },
  {
   "cell_type": "code",
   "execution_count": 24,
   "id": "5eecaec9",
   "metadata": {},
   "outputs": [],
   "source": [
    "!git config --global user.name \"HibaAp\""
   ]
  },
  {
   "cell_type": "markdown",
   "id": "76f1a36d",
   "metadata": {},
   "source": [
    "## Updated dataset with different random seed"
   ]
  },
  {
   "cell_type": "code",
   "execution_count": 25,
   "id": "39f84dce",
   "metadata": {},
   "outputs": [],
   "source": [
    "train_data, val_data, test_data = partition_dataset(data, 33)"
   ]
  },
  {
   "cell_type": "code",
   "execution_count": 26,
   "id": "961a9178",
   "metadata": {},
   "outputs": [],
   "source": [
    "export_data_splits(train_data, val_data, test_data)"
   ]
  },
  {
   "cell_type": "code",
   "execution_count": 27,
   "id": "0ae7ff2b",
   "metadata": {},
   "outputs": [
    {
     "name": "stdout",
     "output_type": "stream",
     "text": [
      "\n",
      "To track the changes with git, run:\n",
      "\n",
      "\tgit add validation.csv.dvc test.csv.dvc train.csv.dvc\n",
      "\n",
      "To enable auto staging, run:\n",
      "\n",
      "\tdvc config core.autostage true\n"
     ]
    },
    {
     "name": "stderr",
     "output_type": "stream",
     "text": [
      "⠋ Checking graph\n",
      "\n"
     ]
    }
   ],
   "source": [
    "! dvc add train.csv validation.csv test.csv"
   ]
  },
  {
   "cell_type": "code",
   "execution_count": 28,
   "id": "8645667e",
   "metadata": {},
   "outputs": [
    {
     "name": "stdout",
     "output_type": "stream",
     "text": [
      "[master 581b6ea] Updated split with a new random seed\n",
      " 3 files changed, 6 insertions(+), 6 deletions(-)\n"
     ]
    }
   ],
   "source": [
    "!git add test.csv.dvc train.csv.dvc validation.csv.dvc\n",
    "!git commit -m \"Updated split with a new random seed\"\n"
   ]
  },
  {
   "cell_type": "code",
   "execution_count": 29,
   "id": "77c1a0ce",
   "metadata": {},
   "outputs": [
    {
     "name": "stderr",
     "output_type": "stream",
     "text": [
      "Note: switching to 'HEAD~1'.\n",
      "\n",
      "You are in 'detached HEAD' state. You can look around, make experimental\n",
      "changes and commit them, and you can discard any commits you make in this\n",
      "state without impacting any branches by switching back to a branch.\n",
      "\n",
      "If you want to create a new branch to retain commits you create, you may\n",
      "do so (now or later) by using -c with the switch command. Example:\n",
      "\n",
      "  git switch -c <new-branch-name>\n",
      "\n",
      "Or undo this operation with:\n",
      "\n",
      "  git switch -\n",
      "\n",
      "Turn off this advice by setting config variable advice.detachedHead to false\n",
      "\n",
      "HEAD is now at 745d6e8 Initial train/validation/test split\n"
     ]
    },
    {
     "name": "stdout",
     "output_type": "stream",
     "text": [
      "M       test.csv\n",
      "M       validation.csv\n",
      "M       train.csv\n"
     ]
    }
   ],
   "source": [
    "!git checkout HEAD~1  \n",
    "!dvc checkout"
   ]
  },
  {
   "cell_type": "code",
   "execution_count": 30,
   "id": "30e0762c",
   "metadata": {},
   "outputs": [
    {
     "name": "stdout",
     "output_type": "stream",
     "text": [
      "745d6e8 Initial train/validation/test split\n",
      "d271742 Updated split with a new random seed\n",
      "3edaef3 Initial train/validation/test split\n"
     ]
    }
   ],
   "source": [
    "!git log --oneline\n"
   ]
  },
  {
   "cell_type": "markdown",
   "id": "923fd22f",
   "metadata": {},
   "source": [
    "## Data split with random seed 42"
   ]
  },
  {
   "cell_type": "code",
   "execution_count": 31,
   "id": "f03414b0",
   "metadata": {},
   "outputs": [
    {
     "name": "stdout",
     "output_type": "stream",
     "text": [
      "Label Distribution in train.csv:\n",
      "label\n",
      "ham     3484\n",
      "spam     526\n",
      "Name: count, dtype: int64\n",
      "\n",
      "Label Distribution in validation.csv:\n",
      "label\n",
      "ham     385\n",
      "spam     61\n",
      "Name: count, dtype: int64\n",
      "\n",
      "Label Distribution in test.csv:\n",
      "label\n",
      "ham     955\n",
      "spam    160\n",
      "Name: count, dtype: int64\n",
      "\n"
     ]
    }
   ],
   "source": [
    "\n",
    "splits = [\"train\", \"validation\", \"test\"]\n",
    "\n",
    "for split in splits:\n",
    "    df = pd.read_csv(f\"{split}.csv\")\n",
    "    print(f\"Label Distribution in {split}.csv:\\n{df['label'].value_counts()}\\n\")"
   ]
  },
  {
   "cell_type": "markdown",
   "id": "94dbc9eb",
   "metadata": {},
   "source": [
    "## Data split with random seed 33"
   ]
  },
  {
   "cell_type": "code",
   "execution_count": 32,
   "id": "252feec9",
   "metadata": {},
   "outputs": [
    {
     "name": "stderr",
     "output_type": "stream",
     "text": [
      "Previous HEAD position was 745d6e8 Initial train/validation/test split\n",
      "Switched to branch 'master'\n"
     ]
    },
    {
     "name": "stdout",
     "output_type": "stream",
     "text": [
      "M       test.csv\n",
      "M       train.csv\n",
      "M       validation.csv\n"
     ]
    }
   ],
   "source": [
    "!git checkout master\n",
    "!dvc checkout"
   ]
  },
  {
   "cell_type": "code",
   "execution_count": 33,
   "id": "412b8a9c",
   "metadata": {},
   "outputs": [
    {
     "name": "stdout",
     "output_type": "stream",
     "text": [
      "Label Distribution in train.csv:\n",
      "label\n",
      "ham     3466\n",
      "spam     544\n",
      "Name: count, dtype: int64\n",
      "\n",
      "Label Distribution in validation.csv:\n",
      "label\n",
      "ham     389\n",
      "spam     57\n",
      "Name: count, dtype: int64\n",
      "\n",
      "Label Distribution in test.csv:\n",
      "label\n",
      "ham     969\n",
      "spam    146\n",
      "Name: count, dtype: int64\n",
      "\n"
     ]
    }
   ],
   "source": [
    "\n",
    "splits = [\"train\", \"validation\", \"test\"]\n",
    "\n",
    "for split in splits:\n",
    "    df = pd.read_csv(f\"{split}.csv\")\n",
    "    print(f\"Label Distribution in {split}.csv:\\n{df['label'].value_counts()}\\n\")"
   ]
  },
  {
   "cell_type": "code",
   "execution_count": 34,
   "id": "5eac28f7",
   "metadata": {},
   "outputs": [
    {
     "name": "stdout",
     "output_type": "stream",
     "text": [
      "On branch master\n",
      "Untracked files:\n",
      "  (use \"git add <file>...\" to include in what will be committed)\n",
      "\tREADME\n",
      "\tSpamHamData.xlsx\n",
      "\trequirements.txt\n",
      "\n",
      "nothing added to commit but untracked files present (use \"git add\" to track)\n"
     ]
    }
   ],
   "source": [
    "!git status\n"
   ]
  },
  {
   "cell_type": "code",
   "execution_count": 43,
   "id": "d721db55",
   "metadata": {},
   "outputs": [
    {
     "name": "stderr",
     "output_type": "stream",
     "text": [
      "fatal: 'origin' does not appear to be a git repository\n",
      "fatal: Could not read from remote repository.\n",
      "\n",
      "Please make sure you have the correct access rights\n",
      "and the repository exists.\n"
     ]
    }
   ],
   "source": [
    "!git push origin master\n"
   ]
  }
 ],
 "metadata": {
  "kernelspec": {
   "display_name": "Python 3",
   "language": "python",
   "name": "python3"
  },
  "language_info": {
   "codemirror_mode": {
    "name": "ipython",
    "version": 3
   },
   "file_extension": ".py",
   "mimetype": "text/x-python",
   "name": "python",
   "nbconvert_exporter": "python",
   "pygments_lexer": "ipython3",
   "version": "3.12.4"
  }
 },
 "nbformat": 4,
 "nbformat_minor": 5
}
